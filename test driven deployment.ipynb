{
 "cells": [
  {
   "cell_type": "code",
   "execution_count": 1,
   "id": "007446c3",
   "metadata": {},
   "outputs": [],
   "source": [
    "def GCcount(seq):\n",
    "    seq=seq.lower()\n",
    "    gcount=seq.count(\"g\")\n",
    "    ccount=seq.count(\"c\")\n",
    "    \n",
    "    return gcount+ccount"
   ]
  },
  {
   "cell_type": "code",
   "execution_count": null,
   "id": "ce71ca7e",
   "metadata": {},
   "outputs": [],
   "source": [
    "def test_gc_count():\n",
    "    assert GCcount(\"g\")==1 \n",
    "    assert GCcount(\"cG\")==2\n",
    "    assert GCcount(\"gatcgtATGCC\")==6\n",
    "    "
   ]
  },
  {
   "cell_type": "code",
   "execution_count": 2,
   "id": "859a6f33",
   "metadata": {},
   "outputs": [
    {
     "name": "stdout",
     "output_type": "stream",
     "text": [
      "GC_TEST.py                            packages and modeules.ipynb\r\n",
      "LICENSE                               simpleplot.py\r\n",
      "Methods_review.ipynb                  test driven deployment.ipynb\r\n",
      "README.md                             test1.ipynb\r\n",
      "Untitled.ipynb                        test2.html\r\n",
      "function.ipynb                        test2.ipynb\r\n",
      "images_medium_ja-2017-13292m_0002.gif zen.py\r\n",
      "list_comprehension.ipynb\r\n"
     ]
    }
   ],
   "source": [
    "!ls\n"
   ]
  },
  {
   "cell_type": "code",
   "execution_count": 3,
   "id": "a44411cd",
   "metadata": {},
   "outputs": [
    {
     "name": "stdout",
     "output_type": "stream",
     "text": [
      "\u001b[1m============================= test session starts ==============================\u001b[0m\r\n",
      "platform darwin -- Python 3.9.15, pytest-7.1.2, pluggy-1.0.0\r\n",
      "rootdir: /Users/bishalthapa/Bishal Thapa/MIT/IAP/caltech BE/caltech_103a_practice\r\n",
      "plugins: anyio-3.5.0\r\n",
      "\u001b[1mcollecting ... \u001b[0m\u001b[1m\r",
      "collected 1 item                                                               \u001b[0m\r\n",
      "\r\n",
      "GC_TEST.py \u001b[32m.\u001b[0m\u001b[32m                                                             [100%]\u001b[0m\r\n",
      "\r\n",
      "\u001b[32m============================== \u001b[32m\u001b[1m1 passed\u001b[0m\u001b[32m in 0.01s\u001b[0m\u001b[32m ===============================\u001b[0m\r\n"
     ]
    }
   ],
   "source": [
    "!pytest GC_TEST.py\n"
   ]
  },
  {
   "cell_type": "code",
   "execution_count": 4,
   "id": "2a59e9dc",
   "metadata": {},
   "outputs": [
    {
     "name": "stdout",
     "output_type": "stream",
     "text": [
      "\u001b[1m============================= test session starts ==============================\u001b[0m\r\n",
      "platform darwin -- Python 3.9.15, pytest-7.1.2, pluggy-1.0.0 -- /opt/anaconda3/bin/python\r\n",
      "cachedir: .pytest_cache\r\n",
      "rootdir: /Users/bishalthapa/Bishal Thapa/MIT/IAP/caltech BE/caltech_103a_practice\r\n",
      "plugins: anyio-3.5.0\r\n",
      "\u001b[1mcollecting ... \u001b[0m\u001b[1m\r",
      "collected 1 item                                                               \u001b[0m\r\n",
      "\r\n",
      "GC_TEST.py::test_gc_count \u001b[32mPASSED\u001b[0m\u001b[32m                                         [100%]\u001b[0m\r\n",
      "\r\n",
      "\u001b[32m============================== \u001b[32m\u001b[1m1 passed\u001b[0m\u001b[32m in 0.01s\u001b[0m\u001b[32m ===============================\u001b[0m\r\n"
     ]
    }
   ],
   "source": [
    "!pytest -v GC_TEST.py"
   ]
  },
  {
   "cell_type": "code",
   "execution_count": null,
   "id": "0354935f",
   "metadata": {},
   "outputs": [],
   "source": []
  }
 ],
 "metadata": {
  "kernelspec": {
   "display_name": "Python 3 (ipykernel)",
   "language": "python",
   "name": "python3"
  },
  "language_info": {
   "codemirror_mode": {
    "name": "ipython",
    "version": 3
   },
   "file_extension": ".py",
   "mimetype": "text/x-python",
   "name": "python",
   "nbconvert_exporter": "python",
   "pygments_lexer": "ipython3",
   "version": "3.9.15"
  }
 },
 "nbformat": 4,
 "nbformat_minor": 5
}
