{
 "cells": [
  {
   "cell_type": "markdown",
   "id": "69c6f828-b00f-41c9-94f7-5ad86e4f9232",
   "metadata": {},
   "source": [
    "Using latex in the markdown cells\n"
   ]
  },
  {
   "cell_type": "markdown",
   "id": "97766b2e-b563-4c5d-9662-17c363c2b601",
   "metadata": {},
   "source": [
    "Einstein's equation is $E=mc^2$"
   ]
  },
  {
   "cell_type": "code",
   "execution_count": 3,
   "id": "76c4efd1-dd25-4fcf-865c-ee0e680c5674",
   "metadata": {},
   "outputs": [
    {
     "ename": "SyntaxError",
     "evalue": "invalid syntax (694525597.py, line 1)",
     "output_type": "error",
     "traceback": [
      "\u001b[0;36m  File \u001b[0;32m\"/var/folders/bl/2v_f9v6j29s9cc0h864ytmcw0000gn/T/ipykernel_2721/694525597.py\"\u001b[0;36m, line \u001b[0;32m1\u001b[0m\n\u001b[0;31m    Euler told us that $\\mathrm{e}^{i \\pi}-1=0$\u001b[0m\n\u001b[0m          ^\u001b[0m\n\u001b[0;31mSyntaxError\u001b[0m\u001b[0;31m:\u001b[0m invalid syntax\n"
     ]
    }
   ],
   "source": [
    "Euler told us that $\\mathrm{e}^{i \\pi}-1=0$"
   ]
  },
  {
   "cell_type": "code",
   "execution_count": null,
   "id": "6e7e8bd2-39de-4387-be58-a1db1bccbe9d",
   "metadata": {},
   "outputs": [],
   "source": []
  }
 ],
 "metadata": {
  "kernelspec": {
   "display_name": "Python 3 (ipykernel)",
   "language": "python",
   "name": "python3"
  },
  "language_info": {
   "codemirror_mode": {
    "name": "ipython",
    "version": 3
   },
   "file_extension": ".py",
   "mimetype": "text/x-python",
   "name": "python",
   "nbconvert_exporter": "python",
   "pygments_lexer": "ipython3",
   "version": "3.9.15"
  }
 },
 "nbformat": 4,
 "nbformat_minor": 5
}
