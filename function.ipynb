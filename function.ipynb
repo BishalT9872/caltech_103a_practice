{
  "nbformat": 4,
  "nbformat_minor": 0,
  "metadata": {
    "colab": {
      "provenance": [],
      "authorship_tag": "ABX9TyPuxbjK9q1/gmO2QJnoTv0s",
      "include_colab_link": true
    },
    "kernelspec": {
      "name": "python3",
      "display_name": "Python 3"
    },
    "language_info": {
      "name": "python"
    }
  },
  "cells": [
    {
      "cell_type": "markdown",
      "metadata": {
        "id": "view-in-github",
        "colab_type": "text"
      },
      "source": [
        "<a href=\"https://colab.research.google.com/github/BishalT9872/caltech_103a_practice/blob/main/function.ipynb\" target=\"_parent\"><img src=\"https://colab.research.google.com/assets/colab-badge.svg\" alt=\"Open In Colab\"/></a>"
      ]
    },
    {
      "cell_type": "code",
      "execution_count": 9,
      "metadata": {
        "id": "-ORzG3k-UEAt"
      },
      "outputs": [],
      "source": [
        "def ratio(x,y):                     #function signature\n",
        "  \"\"\"the ratio of x and y\"\"\"\n",
        "  return x/y\n"
      ]
    },
    {
      "cell_type": "code",
      "source": [
        "ratio(5.6,2)"
      ],
      "metadata": {
        "colab": {
          "base_uri": "https://localhost:8080/"
        },
        "id": "ysMzH_OLUZhI",
        "outputId": "734dae65-ac45-48e5-8833-f69633a2cd0c"
      },
      "execution_count": 10,
      "outputs": [
        {
          "output_type": "execute_result",
          "data": {
            "text/plain": [
              "2.8"
            ]
          },
          "metadata": {},
          "execution_count": 10
        }
      ]
    },
    {
      "cell_type": "code",
      "source": [
        "help(ratio)"
      ],
      "metadata": {
        "id": "rxF270IXUbYu",
        "outputId": "240928e6-734c-4950-de8c-40173f43971e",
        "colab": {
          "base_uri": "https://localhost:8080/"
        }
      },
      "execution_count": 11,
      "outputs": [
        {
          "output_type": "stream",
          "name": "stdout",
          "text": [
            "Help on function ratio in module __main__:\n",
            "\n",
            "ratio(x, y)\n",
            "    the ratio of x and y\n",
            "\n"
          ]
        }
      ]
    },
    {
      "cell_type": "code",
      "source": [
        "#all function needs docstring\n"
      ],
      "metadata": {
        "id": "eLPLoXRdV2XO"
      },
      "execution_count": 13,
      "outputs": []
    },
    {
      "cell_type": "code",
      "source": [],
      "metadata": {
        "id": "ytoyS1KGWH9K"
      },
      "execution_count": 5,
      "outputs": []
    }
  ]
}