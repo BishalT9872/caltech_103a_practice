{
  "nbformat": 4,
  "nbformat_minor": 0,
  "metadata": {
    "colab": {
      "provenance": [],
      "authorship_tag": "ABX9TyO0C98nLtfmxppeK33PvSoT",
      "include_colab_link": true
    },
    "kernelspec": {
      "name": "python3",
      "display_name": "Python 3"
    },
    "language_info": {
      "name": "python"
    }
  },
  "cells": [
    {
      "cell_type": "markdown",
      "metadata": {
        "id": "view-in-github",
        "colab_type": "text"
      },
      "source": [
        "<a href=\"https://colab.research.google.com/github/BishalT9872/caltech_103a_practice/blob/main/function.ipynb\" target=\"_parent\"><img src=\"https://colab.research.google.com/assets/colab-badge.svg\" alt=\"Open In Colab\"/></a>"
      ]
    },
    {
      "cell_type": "code",
      "execution_count": null,
      "metadata": {
        "id": "-ORzG3k-UEAt"
      },
      "outputs": [],
      "source": [
        "def ratio(x,y):                     #function signature\n",
        "  \"\"\"the ratio of x and y\"\"\"\n",
        "  return x/y\n"
      ]
    },
    {
      "cell_type": "code",
      "source": [
        "ratio(5.6,2)"
      ],
      "metadata": {
        "colab": {
          "base_uri": "https://localhost:8080/"
        },
        "id": "ysMzH_OLUZhI",
        "outputId": "734dae65-ac45-48e5-8833-f69633a2cd0c"
      },
      "execution_count": null,
      "outputs": [
        {
          "output_type": "execute_result",
          "data": {
            "text/plain": [
              "2.8"
            ]
          },
          "metadata": {},
          "execution_count": 10
        }
      ]
    },
    {
      "cell_type": "code",
      "source": [
        "help(ratio)"
      ],
      "metadata": {
        "id": "rxF270IXUbYu",
        "outputId": "240928e6-734c-4950-de8c-40173f43971e",
        "colab": {
          "base_uri": "https://localhost:8080/"
        }
      },
      "execution_count": null,
      "outputs": [
        {
          "output_type": "stream",
          "name": "stdout",
          "text": [
            "Help on function ratio in module __main__:\n",
            "\n",
            "ratio(x, y)\n",
            "    the ratio of x and y\n",
            "\n"
          ]
        }
      ]
    },
    {
      "cell_type": "code",
      "source": [
        "#all function needs docstring\n"
      ],
      "metadata": {
        "id": "eLPLoXRdV2XO"
      },
      "execution_count": null,
      "outputs": []
    },
    {
      "cell_type": "code",
      "source": [
        "\n",
        "def complement_base(base):\n",
        "  \"\"\" returns the complement of a nucleotide\"\"\"\n",
        "  if base in 'Aa':\n",
        "    return 'T'\n",
        "  elif base in 'Tt':\n",
        "    return 'A'\n",
        "  elif base in 'Gg':\n",
        "    return 'C'\n",
        "  else:\n",
        "    return 'G'\n",
        "\n",
        "def reverse_complemet(seq):\n",
        "  \"\"\"returns the complementary sequence of the sequence\"\"\"\n",
        "  rev_seq=''\n",
        "  for base in seq:\n",
        "    rev_seq+=complement_base(base)\n",
        "  return rev_seq"
      ],
      "metadata": {
        "id": "ytoyS1KGWH9K"
      },
      "execution_count": null,
      "outputs": []
    },
    {
      "cell_type": "code",
      "source": [
        "seq='atgcgcta'\n",
        "reversed(seq)"
      ],
      "metadata": {
        "id": "dzwq7tqdYiMn",
        "outputId": "250afc4b-d866-4794-f682-b2c5ade04b4a",
        "colab": {
          "base_uri": "https://localhost:8080/"
        }
      },
      "execution_count": null,
      "outputs": [
        {
          "output_type": "execute_result",
          "data": {
            "text/plain": [
              "<reversed at 0x7f273bce4ee0>"
            ]
          },
          "metadata": {},
          "execution_count": 20
        }
      ]
    },
    {
      "cell_type": "code",
      "source": [
        "def complement_base(base):\n",
        "    \"\"\"Returns the Watson-Crick complement of a base.\"\"\"\n",
        "    if base in 'Aa':\n",
        "        return 'T'\n",
        "    elif base in 'Tt':\n",
        "        return 'A'\n",
        "    elif base in 'Gg':\n",
        "        return 'C'\n",
        "    else:\n",
        "        return 'G'\n",
        "\n",
        "\n",
        "def reverse_complement(seq):\n",
        "    \"\"\"Compute reverse complement of a sequence.\"\"\"\n",
        "    # Initialize reverse complement\n",
        "    rev_seq = ''\n",
        "\n",
        "    # Loop through and populate list with reverse complement\n",
        "    for base in reversed(seq):\n",
        "        rev_seq += complement_base(base)\n",
        "\n",
        "    return rev_seq"
      ],
      "metadata": {
        "id": "Qt0IEDb3Yopd"
      },
      "execution_count": null,
      "outputs": []
    },
    {
      "cell_type": "code",
      "source": [
        "seq='atgc'\n",
        "reverse_complemet(seq)"
      ],
      "metadata": {
        "id": "v9c3nyh1Yxz9",
        "outputId": "1f4970d7-1b7a-4a7c-bae8-acd1178ced34",
        "colab": {
          "base_uri": "https://localhost:8080/",
          "height": 35
        }
      },
      "execution_count": null,
      "outputs": [
        {
          "output_type": "execute_result",
          "data": {
            "text/plain": [
              "'TACG'"
            ],
            "application/vnd.google.colaboratory.intrinsic+json": {
              "type": "string"
            }
          },
          "metadata": {},
          "execution_count": 23
        }
      ]
    },
    {
      "cell_type": "code",
      "source": [
        "seq = 'GCAGTTGCA'\n",
        "display_complements(seq)"
      ],
      "metadata": {
        "id": "WUXZvlmfZ-cF",
        "outputId": "1596c2fc-0bb0-4d02-be58-5eebdb39ca18",
        "colab": {
          "base_uri": "https://localhost:8080/"
        }
      },
      "execution_count": null,
      "outputs": [
        {
          "output_type": "stream",
          "name": "stdout",
          "text": [
            "GCAGTTGCA\n",
            "|||||||||\n",
            "CGTCAACGT\n"
          ]
        }
      ]
    },
    {
      "cell_type": "code",
      "source": [
        "#modular programming \n",
        "#Write small functions that do single, simple tasks"
      ],
      "metadata": {
        "id": "J4iV0QYlaIT3"
      },
      "execution_count": null,
      "outputs": []
    },
    {
      "cell_type": "code",
      "source": [
        "def display_complements(seq):\n",
        "    \"\"\"Print sequence above its reverse complement.\"\"\"\n",
        "    # Compute the reverse complement\n",
        "    rev_comp = reverse_complement(seq)\n",
        "\n",
        "    # Print template\n",
        "    print(seq)\n",
        "\n",
        "    # Print \"base pairs\"\n",
        "    for base in seq:\n",
        "        print('|', end='')\n",
        "\n",
        "    # Print final newline character after base pairs\n",
        "    print()\n",
        "\n",
        "    # Print reverse complement\n",
        "    for base in reversed(rev_comp):\n",
        "        print(base, end='')\n",
        "\n",
        "    # Print final newline character\n",
        "    print()"
      ],
      "metadata": {
        "id": "BYqfNY8MZJmx"
      },
      "execution_count": null,
      "outputs": []
    },
    {
      "cell_type": "code",
      "source": [
        "def complement_base(base, material='DNA'):\n",
        "    \"\"\"Returns the Watson-Crick complement of a base.\"\"\"\n",
        "    if base in 'Aa':\n",
        "        if material == 'DNA':\n",
        "            return 'T'\n",
        "        elif material == 'RNA':\n",
        "            return 'U'\n",
        "    elif base in 'TtUu':\n",
        "        return 'A'\n",
        "    elif base in 'Gg':\n",
        "        return 'C'\n",
        "    else:\n",
        "        return 'G'\n",
        "\n",
        "def reverse_complement(seq, material='DNA'):\n",
        "    \"\"\"Compute reverse complement of a sequence.\"\"\"\n",
        "    # Initialize reverse complement\n",
        "    rev_seq = ''\n",
        "\n",
        "    # Loop through and populate list with reverse complement\n",
        "    for base in reversed(seq):\n",
        "        rev_seq += complement_base(base, material=material)\n",
        "\n",
        "    return rev_seq"
      ],
      "metadata": {
        "id": "zSlRRIcN3r3m"
      },
      "execution_count": 26,
      "outputs": []
    }
  ]
}