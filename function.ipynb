{
  "nbformat": 4,
  "nbformat_minor": 0,
  "metadata": {
    "colab": {
      "provenance": [],
      "authorship_tag": "ABX9TyNdkZctq1mX6XpRIrRKNlgq",
      "include_colab_link": true
    },
    "kernelspec": {
      "name": "python3",
      "display_name": "Python 3"
    },
    "language_info": {
      "name": "python"
    }
  },
  "cells": [
    {
      "cell_type": "markdown",
      "metadata": {
        "id": "view-in-github",
        "colab_type": "text"
      },
      "source": [
        "<a href=\"https://colab.research.google.com/github/BishalT9872/caltech_103a_practice/blob/main/function.ipynb\" target=\"_parent\"><img src=\"https://colab.research.google.com/assets/colab-badge.svg\" alt=\"Open In Colab\"/></a>"
      ]
    },
    {
      "cell_type": "code",
      "execution_count": null,
      "metadata": {
        "id": "-ORzG3k-UEAt"
      },
      "outputs": [],
      "source": [
        "def ratio(x,y):                     #function signature\n",
        "  \"\"\"the ratio of x and y\"\"\"\n",
        "  return x/y\n"
      ]
    },
    {
      "cell_type": "code",
      "source": [
        "ratio(5.6,2)"
      ],
      "metadata": {
        "colab": {
          "base_uri": "https://localhost:8080/"
        },
        "id": "ysMzH_OLUZhI",
        "outputId": "bdbfca8a-2d41-4b6d-d5f5-cb5e8b70791f"
      },
      "execution_count": null,
      "outputs": [
        {
          "output_type": "execute_result",
          "data": {
            "text/plain": [
              "2.8"
            ]
          },
          "metadata": {},
          "execution_count": 4
        }
      ]
    },
    {
      "cell_type": "code",
      "source": [
        "help(ratio)"
      ],
      "metadata": {
        "id": "rxF270IXUbYu",
        "outputId": "f58a9a8e-ed1f-4947-c411-8a81d7b90993",
        "colab": {
          "base_uri": "https://localhost:8080/"
        }
      },
      "execution_count": 5,
      "outputs": [
        {
          "output_type": "stream",
          "name": "stdout",
          "text": [
            "Help on function ratio in module __main__:\n",
            "\n",
            "ratio(x, y)\n",
            "    the ratio of x and y\n",
            "\n"
          ]
        }
      ]
    },
    {
      "cell_type": "code",
      "source": [],
      "metadata": {
        "id": "eLPLoXRdV2XO"
      },
      "execution_count": null,
      "outputs": []
    }
  ]
}