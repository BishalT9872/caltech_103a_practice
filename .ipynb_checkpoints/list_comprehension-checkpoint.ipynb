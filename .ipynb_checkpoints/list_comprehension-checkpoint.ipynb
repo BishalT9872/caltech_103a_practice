{
  "nbformat": 4,
  "nbformat_minor": 0,
  "metadata": {
    "colab": {
      "provenance": [],
      "authorship_tag": "ABX9TyPmWJNQjPj2fSIOcf/GCwUP",
      "include_colab_link": true
    },
    "kernelspec": {
      "name": "python3",
      "display_name": "Python 3"
    },
    "language_info": {
      "name": "python"
    }
  },
  "cells": [
    {
      "cell_type": "markdown",
      "metadata": {
        "id": "view-in-github",
        "colab_type": "text"
      },
      "source": [
        "<a href=\"https://colab.research.google.com/github/BishalT9872/caltech_103a_practice/blob/main/list_comprehension.ipynb\" target=\"_parent\"><img src=\"https://colab.research.google.com/assets/colab-badge.svg\" alt=\"Open In Colab\"/></a>"
      ]
    },
    {
      "cell_type": "code",
      "execution_count": 1,
      "metadata": {
        "colab": {
          "base_uri": "https://localhost:8080/"
        },
        "id": "0FvMSkzU25b2",
        "outputId": "39597081-e87e-4ac5-a5f2-228f50229ea6"
      },
      "outputs": [
        {
          "output_type": "stream",
          "name": "stdout",
          "text": [
            "Chemistry: Frances Arnold, USA\n",
            "Chemistry: George Smith, USA\n",
            "Chemistry: Gregory Winter, UK\n",
            "Literature: postponed, ---\n",
            "Peace: Denis Mukwege, DRC\n",
            "Peace: Nadia Murad, Iraq\n",
            "Physics: Arthur Ashkin, USA\n",
            "Physics: Gérard Mourou, France\n",
            "Physics: Donna Strickland, Canada\n",
            "Physiology or Medicine: James Allison, USA\n",
            "Physiology or Medicine: Tasuku Honjo, Japan\n",
            "Economics: William Nordhaus, USA\n",
            "Economics: Paul Romer, USA\n"
          ]
        }
      ],
      "source": [
        "names = (\n",
        "    'Frances Arnold', 'George Smith', 'Gregory Winter',\n",
        "    'postponed',\n",
        "    'Denis Mukwege', 'Nadia Murad',\n",
        "    'Arthur Ashkin', 'Gérard Mourou', 'Donna Strickland',\n",
        "    'James Allison', 'Tasuku Honjo',\n",
        "    'William Nordhaus', 'Paul Romer'\n",
        ")\n",
        "\n",
        "nationalities = (\n",
        "    'USA', 'USA', 'UK',\n",
        "    '---',\n",
        "    'DRC', 'Iraq',\n",
        "    'USA', 'France', 'Canada',\n",
        "    'USA', 'Japan',\n",
        "    'USA', 'USA'\n",
        ")\n",
        "\n",
        "categories = (\n",
        "    'Chemistry', 'Chemistry', 'Chemistry',\n",
        "    'Literature',\n",
        "    'Peace', 'Peace',\n",
        "    'Physics', 'Physics', 'Physics',\n",
        "    'Physiology or Medicine', 'Physiology or Medicine',\n",
        "    'Economics', 'Economics'\n",
        ")\n",
        "\n",
        "for name, nat, cat in zip(names, nationalities, categories):\n",
        "    print(cat, end=': ')\n",
        "    print(name, end=', ')\n",
        "    print(nat)"
      ]
    },
    {
      "cell_type": "code",
      "source": [
        "laureates_2018=[]\n",
        "for name,nat,cat in zip(names, nationalities, categories):\n",
        "  laureates_2018+=[(cat,name,nat)]\n",
        "laureates_2018"
      ],
      "metadata": {
        "colab": {
          "base_uri": "https://localhost:8080/"
        },
        "id": "TWwp4wej4f7N",
        "outputId": "6c03d76c-61e1-4b24-e477-8b87e3c0571c"
      },
      "execution_count": 3,
      "outputs": [
        {
          "output_type": "execute_result",
          "data": {
            "text/plain": [
              "[('Chemistry', 'Frances Arnold', 'USA'),\n",
              " ('Chemistry', 'George Smith', 'USA'),\n",
              " ('Chemistry', 'Gregory Winter', 'UK'),\n",
              " ('Literature', 'postponed', '---'),\n",
              " ('Peace', 'Denis Mukwege', 'DRC'),\n",
              " ('Peace', 'Nadia Murad', 'Iraq'),\n",
              " ('Physics', 'Arthur Ashkin', 'USA'),\n",
              " ('Physics', 'Gérard Mourou', 'France'),\n",
              " ('Physics', 'Donna Strickland', 'Canada'),\n",
              " ('Physiology or Medicine', 'James Allison', 'USA'),\n",
              " ('Physiology or Medicine', 'Tasuku Honjo', 'Japan'),\n",
              " ('Economics', 'William Nordhaus', 'USA'),\n",
              " ('Economics', 'Paul Romer', 'USA')]"
            ]
          },
          "metadata": {},
          "execution_count": 3
        }
      ]
    },
    {
      "cell_type": "code",
      "source": [
        "#list comprehension\n",
        "laureates_2018_list_comprehension=[(cat,name,nat) for name,nat,cat in \n",
        "                                   zip(names,nationalities, categories)]\n",
        "laureates_2018_list_comprehension"
      ],
      "metadata": {
        "colab": {
          "base_uri": "https://localhost:8080/"
        },
        "id": "Ht9jpgz040Vz",
        "outputId": "82e172e5-1b7e-4555-cad5-2568cf18e769"
      },
      "execution_count": 18,
      "outputs": [
        {
          "output_type": "execute_result",
          "data": {
            "text/plain": [
              "[('Chemistry', 'Frances Arnold', 'USA'),\n",
              " ('Chemistry', 'George Smith', 'USA'),\n",
              " ('Chemistry', 'Gregory Winter', 'UK'),\n",
              " ('Literature', 'postponed', '---'),\n",
              " ('Peace', 'Denis Mukwege', 'DRC'),\n",
              " ('Peace', 'Nadia Murad', 'Iraq'),\n",
              " ('Physics', 'Arthur Ashkin', 'USA'),\n",
              " ('Physics', 'Gérard Mourou', 'France'),\n",
              " ('Physics', 'Donna Strickland', 'Canada'),\n",
              " ('Physiology or Medicine', 'James Allison', 'USA'),\n",
              " ('Physiology or Medicine', 'Tasuku Honjo', 'Japan'),\n",
              " ('Economics', 'William Nordhaus', 'USA'),\n",
              " ('Economics', 'Paul Romer', 'USA')]"
            ]
          },
          "metadata": {},
          "execution_count": 18
        }
      ]
    },
    {
      "cell_type": "code",
      "source": [
        "laureates_2018_list_comprehension1=[(cat,name,nat) for name,nat,cat in \n",
        "                                   zip(names,nationalities, categories) \n",
        "                                   if cat==\"Peace\"]\n",
        "laureates_2018_list_comprehension1\n"
      ],
      "metadata": {
        "colab": {
          "base_uri": "https://localhost:8080/"
        },
        "id": "ifU-ftBL5Eim",
        "outputId": "28f559f5-5444-4983-cd43-e8740337eb7e"
      },
      "execution_count": 14,
      "outputs": [
        {
          "output_type": "execute_result",
          "data": {
            "text/plain": [
              "[('Peace', 'Denis Mukwege', 'DRC'), ('Peace', 'Nadia Murad', 'Iraq')]"
            ]
          },
          "metadata": {},
          "execution_count": 14
        }
      ]
    },
    {
      "cell_type": "code",
      "source": [
        "laureates_2018_list_comprehension1=[(\"Science\",name,nat) if cat==\"Physics\" or  cat==\"chemistry\" else (cat,name,nat) for name,nat,cat in \n",
        "                                   zip(names,nationalities, categories) \n",
        "                                   if cat==\"Peace\"or cat==\"Physics\" or cat==\"Chemistry\"]\n",
        "laureates_2018_list_comprehension1\n",
        "\n",
        "\n",
        "#last if for selection \n",
        "#first if else used as condition for the list \n"
      ],
      "metadata": {
        "colab": {
          "base_uri": "https://localhost:8080/"
        },
        "id": "TIdKczK65UVt",
        "outputId": "edb9d247-a52c-49ab-d6a4-54884dc71314"
      },
      "execution_count": 21,
      "outputs": [
        {
          "output_type": "execute_result",
          "data": {
            "text/plain": [
              "[('Chemistry', 'Frances Arnold', 'USA'),\n",
              " ('Chemistry', 'George Smith', 'USA'),\n",
              " ('Chemistry', 'Gregory Winter', 'UK'),\n",
              " ('Peace', 'Denis Mukwege', 'DRC'),\n",
              " ('Peace', 'Nadia Murad', 'Iraq'),\n",
              " ('Science', 'Arthur Ashkin', 'USA'),\n",
              " ('Science', 'Gérard Mourou', 'France'),\n",
              " ('Science', 'Donna Strickland', 'Canada')]"
            ]
          },
          "metadata": {},
          "execution_count": 21
        }
      ]
    }
  ]
}