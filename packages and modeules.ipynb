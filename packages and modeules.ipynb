{
 "cells": [
  {
   "cell_type": "code",
   "execution_count": null,
   "id": "92c94cfe",
   "metadata": {},
   "outputs": [],
   "source": [
    "#%load_ext blackcellmagic\n",
    "import numpy as np\n",
    "import matplotlib.pyplot as plt\n",
    "data=np.random.gamma(shape=12,scale=2,size=(10000000000,))\n",
    "data_normal=np.random.normal(24,8,(1000000,))\n",
    "data"
   ]
  },
  {
   "cell_type": "code",
   "execution_count": null,
   "id": "547f1234",
   "metadata": {},
   "outputs": [],
   "source": [
    "np.mean(data)\n",
    "np.mean(data_normal)"
   ]
  },
  {
   "cell_type": "code",
   "execution_count": null,
   "id": "010b21e0",
   "metadata": {},
   "outputs": [],
   "source": [
    "plt.hist(data,density=True, histtype='step')\n",
    "plt.hist(data_normal,density=True, histtype='step')"
   ]
  },
  {
   "cell_type": "code",
   "execution_count": null,
   "id": "0096861f",
   "metadata": {},
   "outputs": [],
   "source": [
    "counts, bins=np.histogram(data,bins=100)\n",
    "plt.plot(bins[1:],counts)\n",
    "counts1, bins1=np.histogram(data_,bins=100)\n",
    "plt.plot(bins[1:],counts)"
   ]
  },
  {
   "cell_type": "code",
   "execution_count": null,
   "id": "b10846c7",
   "metadata": {},
   "outputs": [],
   "source": [
    "\n"
   ]
  },
  {
   "cell_type": "code",
   "execution_count": null,
   "id": "82097161",
   "metadata": {},
   "outputs": [],
   "source": []
  },
  {
   "cell_type": "code",
   "execution_count": null,
   "id": "922b7223",
   "metadata": {},
   "outputs": [],
   "source": []
  },
  {
   "cell_type": "code",
   "execution_count": null,
   "id": "a2c3957e",
   "metadata": {},
   "outputs": [],
   "source": []
  }
 ],
 "metadata": {
  "kernelspec": {
   "display_name": "Python 3 (ipykernel)",
   "language": "python",
   "name": "python3"
  },
  "language_info": {
   "codemirror_mode": {
    "name": "ipython",
    "version": 3
   },
   "file_extension": ".py",
   "mimetype": "text/x-python",
   "name": "python",
   "nbconvert_exporter": "python",
   "pygments_lexer": "ipython3",
   "version": "3.9.15"
  }
 },
 "nbformat": 4,
 "nbformat_minor": 5
}
