{
  "nbformat": 4,
  "nbformat_minor": 0,
  "metadata": {
    "colab": {
      "provenance": [],
      "authorship_tag": "ABX9TyP/tLS/Ac9qMpCh7eD/FlfO",
      "include_colab_link": true
    },
    "kernelspec": {
      "name": "python3",
      "display_name": "Python 3"
    },
    "language_info": {
      "name": "python"
    }
  },
  "cells": [
    {
      "cell_type": "markdown",
      "metadata": {
        "id": "view-in-github",
        "colab_type": "text"
      },
      "source": [
        "<a href=\"https://colab.research.google.com/github/BishalT9872/caltech_103a_practice/blob/main/Methods_review.ipynb\" target=\"_parent\"><img src=\"https://colab.research.google.com/assets/colab-badge.svg\" alt=\"Open In Colab\"/></a>"
      ]
    },
    {
      "cell_type": "markdown",
      "source": [
        "# Methods \n",
        "## Compliments our function \n",
        "Methods are pre-established function which can be used with different types of variables.\n"
      ],
      "metadata": {
        "id": "PHaSzrFa9tLn"
      }
    },
    {
      "cell_type": "code",
      "execution_count": 2,
      "metadata": {
        "colab": {
          "base_uri": "https://localhost:8080/"
        },
        "id": "mRB-WrgI8uAw",
        "outputId": "cb62b29f-656e-4ff9-b7dc-8ff1a4c9956f"
      },
      "outputs": [
        {
          "output_type": "execute_result",
          "data": {
            "text/plain": [
              "16"
            ]
          },
          "metadata": {},
          "execution_count": 2
        }
      ],
      "source": [
        "#methods from string \n",
        "#Variables are followed by dot (.) and function which are called as methods \n",
        "#example for using a method in string ===> my_str.string_method_of_choice(*args)\n",
        "seq=\"GACAGACUCCAUGCACGUGGGUAUCAUGUC\"\n",
        "seq.count(\"G\")+seq.count(\"C\")"
      ]
    },
    {
      "cell_type": "code",
      "source": [
        "#finding start codon \n",
        "#find always returns an integer if nothing is found it returns -1\n",
        "seq.find('AUG')\n",
        "\n",
        "#rfind is the reverse of find and returns the last index of the match \n",
        "seq.rfind('AUG')"
      ],
      "metadata": {
        "colab": {
          "base_uri": "https://localhost:8080/"
        },
        "id": "RU2I3QAD9qgZ",
        "outputId": "4eb09548-a5c8-4f9b-e069-1e93fa986783"
      },
      "execution_count": 4,
      "outputs": [
        {
          "output_type": "execute_result",
          "data": {
            "text/plain": [
              "25"
            ]
          },
          "metadata": {},
          "execution_count": 4
        }
      ]
    },
    {
      "cell_type": "code",
      "source": [
        "seq.lower().upper()"
      ],
      "metadata": {
        "colab": {
          "base_uri": "https://localhost:8080/",
          "height": 35
        },
        "id": "7Mq4f7mo_Ci8",
        "outputId": "81205842-9140-41dc-eea0-9eb767e22f22"
      },
      "execution_count": 7,
      "outputs": [
        {
          "output_type": "execute_result",
          "data": {
            "text/plain": [
              "'GACAGACUCCAUGCACGUGGGUAUCAUGUC'"
            ],
            "application/vnd.google.colaboratory.intrinsic+json": {
              "type": "string"
            }
          },
          "metadata": {},
          "execution_count": 7
        }
      ]
    },
    {
      "cell_type": "code",
      "source": [
        "#to get RNA sequence \n",
        "seq.replace(\"T\",\"U\")"
      ],
      "metadata": {
        "colab": {
          "base_uri": "https://localhost:8080/",
          "height": 35
        },
        "id": "816ct0zhAAm3",
        "outputId": "e791afac-f374-49ce-9276-d73ed28778a3"
      },
      "execution_count": 10,
      "outputs": [
        {
          "output_type": "execute_result",
          "data": {
            "text/plain": [
              "'GACAGACUCCAUGCACGUGGGUAUCAUGUC'"
            ],
            "application/vnd.google.colaboratory.intrinsic+json": {
              "type": "string"
            }
          },
          "metadata": {},
          "execution_count": 10
        }
      ]
    },
    {
      "cell_type": "code",
      "source": [
        "word_tuple=( \"I\",\"love\",\"science\")\n",
        "\"-\".join(word_tuple)"
      ],
      "metadata": {
        "colab": {
          "base_uri": "https://localhost:8080/",
          "height": 35
        },
        "id": "X8CGugX7ACjw",
        "outputId": "f5aef745-2ad1-4bdc-94d7-d8cbd19c651d"
      },
      "execution_count": 11,
      "outputs": [
        {
          "output_type": "execute_result",
          "data": {
            "text/plain": [
              "'I-love-science'"
            ],
            "application/vnd.google.colaboratory.intrinsic+json": {
              "type": "string"
            }
          },
          "metadata": {},
          "execution_count": 11
        }
      ]
    },
    {
      "cell_type": "code",
      "source": [
        "#using format and place holder in string \n",
        "\n",
        "my_str = \"\"\"\n",
        "Let's do a Mad Lib!\n",
        "During BE/Bi 103 a, I feel {adjective}.\n",
        "The instructors give us {plural_noun}.\n",
        "\"\"\".format(adjective='truculent', plural_noun='haircuts')\n",
        "\n",
        "print(my_str)\n",
        "\n",
        "print('There are {n:d} states in the US.'.format(n=50))\n",
        "print('Your file number is {n:d}.'.format(n=23))\n",
        "print('π is approximately {pi:f}.'.format(pi=3.14))\n",
        "print('e is approximately {e:.8f}.'.format(e=2.7182818284590451))\n",
        "print(\"Avogadro's number is approximately {N_A:e}.\".format(N_A=6.022e23))\n",
        "print('ε₀ is approximately {eps_0:.16e} F/m.'.format(eps_0=8.854187817e-12))\n",
        "print('That {thing:s} really tied the room together.'.format(thing='rug'))"
      ],
      "metadata": {
        "colab": {
          "base_uri": "https://localhost:8080/"
        },
        "id": "tdhO1lArAvDs",
        "outputId": "be8a8c24-13ec-4d3f-d318-6b5d5687a901"
      },
      "execution_count": 14,
      "outputs": [
        {
          "output_type": "stream",
          "name": "stdout",
          "text": [
            "\n",
            "Let's do a Mad Lib!\n",
            "During BE/Bi 103 a, I feel truculent.\n",
            "The instructors give us haircuts.\n",
            "\n",
            "There are 50 states in the US.\n",
            "Your file number is 23.\n",
            "π is approximately 3.140000.\n",
            "e is approximately 2.71828183.\n",
            "Avogadro's number is approximately 6.022000e+23.\n",
            "ε₀ is approximately 8.8541878170000005e-12 F/m.\n",
            "That rug really tied the room together.\n"
          ]
        }
      ]
    },
    {
      "cell_type": "code",
      "source": [
        "#examples of F-string \n",
        "n_states = 50\n",
        "file_number = 23\n",
        "pi = 3.14\n",
        "e = 2.7182818284590451\n",
        "N_A = 6.022e23\n",
        "eps_0 = 8.854187817e-12\n",
        "thing = 'rug'\n",
        "\n",
        "print(f'There are {n_states} states in the US.')\n",
        "print(f'Your file number is {file_number}.')\n",
        "print(f'π is approximately {pi}.')\n",
        "print(f'e is approximately {e:.8f}.')\n",
        "print(f\"Avogadro's number is approximately {N_A}.\")\n",
        "print(f'ε₀ is approximately {eps_0} F/m.')\n",
        "print(f'That {thing} really tied the room together.')"
      ],
      "metadata": {
        "colab": {
          "base_uri": "https://localhost:8080/"
        },
        "id": "xQlAWfrpCH0s",
        "outputId": "d4122af7-04af-4514-d47f-6245729b273d"
      },
      "execution_count": 15,
      "outputs": [
        {
          "output_type": "stream",
          "name": "stdout",
          "text": [
            "There are 50 states in the US.\n",
            "Your file number is 23.\n",
            "π is approximately 3.14.\n",
            "e is approximately 2.71828183.\n",
            "Avogadro's number is approximately 6.022e+23.\n",
            "ε₀ is approximately 8.854187817e-12 F/m.\n",
            "That rug really tied the room together.\n"
          ]
        }
      ]
    },
    {
      "cell_type": "markdown",
      "source": [
        "https://docs.python.org/3/library/stdtypes.html#string-methods "
      ],
      "metadata": {
        "id": "i_ganG-hCPRg"
      }
    },
    {
      "cell_type": "code",
      "source": [
        "!pip install watermark\n",
        "%load_ext watermark\n",
        "%watermark -v -p jupyterlab"
      ],
      "metadata": {
        "colab": {
          "base_uri": "https://localhost:8080/"
        },
        "id": "Vuh4MMmSCogE",
        "outputId": "7a26b2b9-6388-4159-f0bd-a0951a7436d0"
      },
      "execution_count": 18,
      "outputs": [
        {
          "output_type": "stream",
          "name": "stdout",
          "text": [
            "Looking in indexes: https://pypi.org/simple, https://us-python.pkg.dev/colab-wheels/public/simple/\n",
            "Collecting watermark\n",
            "  Downloading watermark-2.3.1-py2.py3-none-any.whl (7.2 kB)\n",
            "Requirement already satisfied: ipython in /usr/local/lib/python3.8/dist-packages (from watermark) (7.9.0)\n",
            "Requirement already satisfied: prompt-toolkit<2.1.0,>=2.0.0 in /usr/local/lib/python3.8/dist-packages (from ipython->watermark) (2.0.10)\n",
            "Requirement already satisfied: backcall in /usr/local/lib/python3.8/dist-packages (from ipython->watermark) (0.2.0)\n",
            "Requirement already satisfied: pexpect in /usr/local/lib/python3.8/dist-packages (from ipython->watermark) (4.8.0)\n",
            "Requirement already satisfied: pygments in /usr/local/lib/python3.8/dist-packages (from ipython->watermark) (2.6.1)\n",
            "Requirement already satisfied: setuptools>=18.5 in /usr/local/lib/python3.8/dist-packages (from ipython->watermark) (57.4.0)\n",
            "Requirement already satisfied: traitlets>=4.2 in /usr/local/lib/python3.8/dist-packages (from ipython->watermark) (5.7.1)\n",
            "Collecting jedi>=0.10\n",
            "  Downloading jedi-0.18.2-py2.py3-none-any.whl (1.6 MB)\n",
            "\u001b[2K     \u001b[90m━━━━━━━━━━━━━━━━━━━━━━━━━━━━━━━━━━━━━━━━\u001b[0m \u001b[32m1.6/1.6 MB\u001b[0m \u001b[31m26.1 MB/s\u001b[0m eta \u001b[36m0:00:00\u001b[0m\n",
            "\u001b[?25hRequirement already satisfied: decorator in /usr/local/lib/python3.8/dist-packages (from ipython->watermark) (4.4.2)\n",
            "Requirement already satisfied: pickleshare in /usr/local/lib/python3.8/dist-packages (from ipython->watermark) (0.7.5)\n",
            "Requirement already satisfied: parso<0.9.0,>=0.8.0 in /usr/local/lib/python3.8/dist-packages (from jedi>=0.10->ipython->watermark) (0.8.3)\n",
            "Requirement already satisfied: six>=1.9.0 in /usr/local/lib/python3.8/dist-packages (from prompt-toolkit<2.1.0,>=2.0.0->ipython->watermark) (1.15.0)\n",
            "Requirement already satisfied: wcwidth in /usr/local/lib/python3.8/dist-packages (from prompt-toolkit<2.1.0,>=2.0.0->ipython->watermark) (0.2.5)\n",
            "Requirement already satisfied: ptyprocess>=0.5 in /usr/local/lib/python3.8/dist-packages (from pexpect->ipython->watermark) (0.7.0)\n",
            "Installing collected packages: jedi, watermark\n",
            "Successfully installed jedi-0.18.2 watermark-2.3.1\n",
            "Python implementation: CPython\n",
            "Python version       : 3.8.16\n",
            "IPython version      : 7.9.0\n",
            "\n",
            "jupyterlab: not installed\n",
            "\n"
          ]
        }
      ]
    },
    {
      "cell_type": "code",
      "source": [],
      "metadata": {
        "id": "QlUT-QlmCsbE"
      },
      "execution_count": null,
      "outputs": []
    }
  ]
}